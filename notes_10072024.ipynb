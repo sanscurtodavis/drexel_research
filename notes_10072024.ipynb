{
  "nbformat": 4,
  "nbformat_minor": 0,
  "metadata": {
    "colab": {
      "provenance": [],
      "authorship_tag": "ABX9TyND12K2JNrMzijwLvPw9qd5",
      "include_colab_link": true
    },
    "kernelspec": {
      "name": "python3",
      "display_name": "Python 3"
    },
    "language_info": {
      "name": "python"
    }
  },
  "cells": [
    {
      "cell_type": "markdown",
      "metadata": {
        "id": "view-in-github",
        "colab_type": "text"
      },
      "source": [
        "<a href=\"https://colab.research.google.com/github/sanscurtodavis/drexel_research/blob/main/notes_10072024.ipynb\" target=\"_parent\"><img src=\"https://colab.research.google.com/assets/colab-badge.svg\" alt=\"Open In Colab\"/></a>"
      ]
    },
    {
      "cell_type": "markdown",
      "source": [
        "## Import modules"
      ],
      "metadata": {
        "id": "hL1uzg7a5RxX"
      }
    },
    {
      "cell_type": "code",
      "execution_count": null,
      "metadata": {
        "id": "Yi6x--ZA5BDA"
      },
      "outputs": [],
      "source": [
        "import pandas as pd\n",
        "import datetime\n",
        "import matplotlib.pyplot as plt"
      ]
    },
    {
      "cell_type": "markdown",
      "source": [
        "## Initialize constants"
      ],
      "metadata": {
        "id": "CKq-UmnN5g2c"
      }
    },
    {
      "cell_type": "code",
      "source": [
        "# File paths\n",
        "btc_fp = \"myenv/btc_data.csv\"\n",
        "eth_fp = \"myenv/eth_data.csv\"\n",
        "bayc_fp = \"myenv/NFT_Data_New/BoredApeYachtClub.csv\"\n",
        "\n",
        "# Date range\n",
        "start_date = datetime.datetime(2021, 9, 13)\n",
        "end_date = datetime.datetime(2023, 2, 23)"
      ],
      "metadata": {
        "id": "a2PJBeJn5gbN"
      },
      "execution_count": null,
      "outputs": []
    },
    {
      "cell_type": "markdown",
      "source": [
        "## Initialize functions"
      ],
      "metadata": {
        "id": "uYUkeZe65iOT"
      }
    },
    {
      "cell_type": "code",
      "source": [
        "# Function to read and normalize data\n",
        "def read_file(path, data_type):\n",
        "    if data_type == 'crypto':\n",
        "        df = pd.read_csv(path, delimiter=';', quotechar='\"')\n",
        "\n",
        "        columns = ['timeClose', 'open', 'high', 'low', 'close', 'volume', 'marketCap']\n",
        "        df = df[columns].sort_values(by=['timeClose'])\n",
        "        df['timeClose'] = pd.to_datetime(df['timeClose'])\n",
        "\n",
        "        # Rename columns\n",
        "        df = df.rename(columns={\n",
        "            'timeClose': 'DateTime',\n",
        "            'open': 'Open',\n",
        "            'high': 'High',\n",
        "            'low': 'Low',\n",
        "            'close': 'Close',\n",
        "            'volume': 'Volume',\n",
        "            'marketCap': 'Market cap USD',\n",
        "        })\n",
        "        df = df.reset_index(drop=True)\n",
        "\n",
        "    elif data_type == 'nft':\n",
        "        df = pd.read_csv(path)\n",
        "        df['DateTime'] = pd.to_datetime(df['DateTime'])\n",
        "        df = df[(df['DateTime'] >= start_date) & (df['DateTime'] <= end_date)]\n",
        "        df = df.rename(columns={'Number of sales': 'Number of sales'})\n",
        "        df['Number of sales'] = df['Number of sales'] * 300000000\n",
        "    else:\n",
        "        raise ValueError(\"Error: Invalid Premise\")\n",
        "\n",
        "    return df"
      ],
      "metadata": {
        "id": "hNZ7cF755dN2"
      },
      "execution_count": null,
      "outputs": []
    },
    {
      "cell_type": "markdown",
      "source": [
        "## Read data from function"
      ],
      "metadata": {
        "id": "fZ9T4TYn5mkQ"
      }
    },
    {
      "cell_type": "code",
      "source": [
        "# Read and normalize Bitcoin, Ethereum, and BAYC data\n",
        "btc_df = read_file(btc_fp, 'crypto')\n",
        "eth_df = read_file(eth_fp, 'crypto')\n",
        "bayc_df = read_file(bayc_fp, 'nft')"
      ],
      "metadata": {
        "id": "uhmG1XL65lHd"
      },
      "execution_count": null,
      "outputs": []
    },
    {
      "cell_type": "markdown",
      "source": [
        "## Visualize dataframes"
      ],
      "metadata": {
        "id": "pKEYH8jH5Y4G"
      }
    },
    {
      "cell_type": "code",
      "source": [
        "# Print data for inspection\n",
        "print(f\"Bitcoin Market Data (Normalized) {start_date.strftime('%m/%d/%Y')} - {end_date.strftime('%m/%d/%Y')}\")\n",
        "print(btc_df.head())\n",
        "print(f\"Ethereum Market Data (Normalized) {start_date.strftime('%m/%d/%Y')} - {end_date.strftime('%m/%d/%Y')}\")\n",
        "print(eth_df.head())\n",
        "print(f\"BAYC NFT Sales Data (Normalized) {start_date.strftime('%m/%d/%Y')} - {end_date.strftime('%m/%d/%Y')}\")\n",
        "print(bayc_df.head())"
      ],
      "metadata": {
        "id": "_yObqpHY5X8M"
      },
      "execution_count": null,
      "outputs": []
    },
    {
      "cell_type": "markdown",
      "source": [
        "## Plot data"
      ],
      "metadata": {
        "id": "FWs1XvmO5V-J"
      }
    },
    {
      "cell_type": "code",
      "source": [
        "# Plot normalized data\n",
        "plt.figure(figsize=(10, 6))\n",
        "plt.plot(btc_df['DateTime'], btc_df['Market cap USD'], label='Bitcoin (Market Cap)', color='orange')\n",
        "plt.plot(eth_df['DateTime'], eth_df['Market cap USD'], label='Ethereum (Market Cap)', color='blue')\n",
        "plt.plot(bayc_df['DateTime'], bayc_df['Number of sales'], label='BAYC Sales', color='red')\n",
        "\n",
        "# Formatting plot\n",
        "plt.title(f'Market Data (Normalized) from {start_date.strftime(\"%m/%d/%Y\")} to {end_date.strftime(\"%m/%d/%Y\")}')\n",
        "plt.xlabel('Date')\n",
        "plt.ylabel('Normalized Values')\n",
        "plt.legend()\n",
        "plt.grid(True)\n",
        "plt.tight_layout()\n",
        "\n",
        "plt.show()"
      ],
      "metadata": {
        "id": "cBs6hT365VnM"
      },
      "execution_count": null,
      "outputs": []
    }
  ]
}